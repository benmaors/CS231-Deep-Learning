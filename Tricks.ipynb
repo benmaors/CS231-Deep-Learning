{
  "nbformat": 4,
  "nbformat_minor": 0,
  "metadata": {
    "colab": {
      "name": "Untitled9.ipynb",
      "provenance": [],
      "authorship_tag": "ABX9TyMUkKY+j4H3JbeRdsEZ/PAN",
      "include_colab_link": true
    },
    "kernelspec": {
      "name": "python3",
      "display_name": "Python 3"
    },
    "language_info": {
      "name": "python"
    }
  },
  "cells": [
    {
      "cell_type": "markdown",
      "metadata": {
        "id": "view-in-github",
        "colab_type": "text"
      },
      "source": [
        "<a href=\"https://colab.research.google.com/github/benmaors/CS231-Deep-Learning/blob/main/Tricks.ipynb\" target=\"_parent\"><img src=\"https://colab.research.google.com/assets/colab-badge.svg\" alt=\"Open In Colab\"/></a>"
      ]
    },
    {
      "cell_type": "markdown",
      "metadata": {
        "id": "2wYzUeDkjX7m"
      },
      "source": [
        "Notebook Tricks "
      ]
    },
    {
      "cell_type": "markdown",
      "metadata": {
        "id": "pgeQoRRPjeMV"
      },
      "source": [
        "#### Clear Variables"
      ]
    },
    {
      "cell_type": "code",
      "metadata": {
        "id": "hHwkOGs1jXYR"
      },
      "source": [
        "# Cleaning up variables to prevent loading data multiple times (which may cause memory issue)\n",
        "try:\n",
        "   del X_train, y_train\n",
        "   del X_test, y_test\n",
        "   print('Clear previously loaded data.')\n",
        "except:\n",
        "   pass"
      ],
      "execution_count": null,
      "outputs": []
    },
    {
      "cell_type": "markdown",
      "metadata": {
        "id": "Mh-8Qppzkd6L"
      },
      "source": [
        "#### Subsampling the Data"
      ]
    },
    {
      "cell_type": "code",
      "metadata": {
        "id": "sMD8e4_bjipw"
      },
      "source": [
        "# Subsample the data for more efficient code execution in this exercise\n",
        "num_training = 5000\n",
        "mask = list(range(num_training))\n",
        "X_train = X_train[mask]\n",
        "y_train = y_train[mask]\n",
        "\n",
        "num_test = 500\n",
        "mask = list(range(num_test))\n",
        "X_test = X_test[mask]\n",
        "y_test = y_test[mask]"
      ],
      "execution_count": null,
      "outputs": []
    },
    {
      "cell_type": "markdown",
      "metadata": {
        "id": "3CHEVzWKr63q"
      },
      "source": [
        "#### Git Clone"
      ]
    },
    {
      "cell_type": "code",
      "metadata": {
        "id": "l9IxNZoekhZg"
      },
      "source": [
        "!git clone https://github.com/nholmber/google-colab-cs231n.git"
      ],
      "execution_count": null,
      "outputs": []
    }
  ]
}